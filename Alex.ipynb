{
 "cells": [
  {
   "cell_type": "code",
   "execution_count": 6,
   "metadata": {},
   "outputs": [],
   "source": [
    "from collections import Counter\n",
    "import json\n",
    "import urllib\n",
    "import sys\n",
    "\n",
    "import pandas as pd\n",
    "from ggplot import *\n",
    "\n",
    "\n",
    "counter = Counter()"
   ]
  },
  {
   "cell_type": "code",
   "execution_count": null,
   "metadata": {},
   "outputs": [],
   "source": [
    "group_name = \"DMIWinter19AlexAmplify\"\n",
    "\n",
    "#static endpoint from https://github.com/tracking-exposed/facebook/wiki/Researchers-API-and-how-to-download-the-data\n",
    "api_end = 'https://facebook.tracking.exposed/api/v1/research/data/l:'\n",
    "\n",
    "\n",
    "print(\"Getting data from\\n\" + api_end + group_name)\n",
    "\n",
    "data = urllib.request.urlopen(api_end + group_name).read()\n",
    "\n",
    "fname = group_name + '.json'\n",
    "\n",
    "f = open(fname, 'wb+')\n",
    "f.write(data)\n",
    "f.close()"
   ]
  },
  {
   "cell_type": "code",
   "execution_count": 9,
   "metadata": {},
   "outputs": [],
   "source": [
    "f = open(group_name.strip() + \".json\", 'rb')\n",
    "posts = json.loads(f.read())\n",
    "f.close()\n",
    "\n",
    "fh = open(group_name.strip() + 'links.csv', 'wb+')\n",
    "fh.write(b\"Publisher \\; Capture\\; Links\")\n",
    "for post in posts[\"results\"]:\n",
    "    links = []\n",
    "    imp_tme = b\"\"\n",
    "    link = \"\"\n",
    "    publish = post[\"attributions\"][0][\"content\"]\n",
    "\n",
    "    if \"impressionTime\" in post:\n",
    "        imp_time = post[\"impressionTime\"]\n",
    "\n",
    "    if \"externalLinks\" in post:\n",
    "        links = [external['link'] for external in post[\"externalLinks\"]]\n",
    "\n",
    "    if len(links) > 0:\n",
    "        link = ','.join(links)\n",
    "        for l in links:\n",
    "            counter[l] += 1\n",
    "    \n",
    "    write_data = ';'.join([publish, imp_time, link])\n",
    "\n",
    "    fh.write(write_data.encode('utf-8') + b\"\\n\")\n",
    "\n",
    "fh.close()"
   ]
  },
  {
   "cell_type": "code",
   "execution_count": null,
   "metadata": {},
   "outputs": [],
   "source": [
    "for link_item in counter.most_common(5):\n",
    "    print(\"Count {0} \\t Link {1}\".format(link_item[1], link_item[0]))"
   ]
  },
  {
   "cell_type": "markdown",
   "metadata": {},
   "source": [
    "Code to identify the person, publisher and time of a link being posted. The aim is to see if the same link appears from different publishers and times suggesting a push of content.\n",
    "\n",
    "A todo would be to query the url shorteners to get the full name from the redirect to see if URLs are being masked behind aliases. \n",
    "\n",
    "The results, captured in DMIWinter19AlexAmplifyperson.csv are fairly innocuous here. "
   ]
  },
  {
   "cell_type": "code",
   "execution_count": null,
   "metadata": {},
   "outputs": [],
   "source": [
    "link_name = \"https://bzfd.it/2CUoJk6\"\n",
    "\n",
    "f = open(group_name.strip() + \".json\", 'rb')\n",
    "posts = json.loads(f.read())\n",
    "f.close()\n",
    "\n",
    "fh = open(group_name.strip() + 'person.csv', 'wb+')\n",
    "fh.write(b\"Publisher,Capture,UserId\\n\")\n",
    "for post in posts[\"results\"]:\n",
    "    imp_time = b\"No Date\"\n",
    "\n",
    "    if \"externalLinks\" in post:\n",
    "        for l in post[\"externalLinks\"]:\n",
    "            if link_name == l['link']:\n",
    "                if \"impressionTime\" in post:\n",
    "                    imp_time = post[\"impressionTime\"]\n",
    "                userid = str(post[\"userId\"])\n",
    "                write_data = ','.join([post[\"attributions\"][0][\"content\"], imp_time, userid])\n",
    "                fh.write(write_data.encode('utf-8') + b\"\\n\")\n",
    "\n",
    "fh.close()"
   ]
  },
  {
   "cell_type": "code",
   "execution_count": null,
   "metadata": {},
   "outputs": [],
   "source": [
    "link_df = pd.read_csv(group_name.strip() + 'person.csv')"
   ]
  },
  {
   "cell_type": "code",
   "execution_count": null,
   "metadata": {},
   "outputs": [],
   "source": [
    "ggplot(aes(x=\"Capture\", y=\"Publisher\", weight=\"Publisher\"), data=link_df) + geom_point()"
   ]
  }
 ],
 "metadata": {
  "kernelspec": {
   "display_name": "Python 3",
   "language": "python",
   "name": "python3"
  },
  "language_info": {
   "codemirror_mode": {
    "name": "ipython",
    "version": 3
   },
   "file_extension": ".py",
   "mimetype": "text/x-python",
   "name": "python",
   "nbconvert_exporter": "python",
   "pygments_lexer": "ipython3",
   "version": "3.7.2"
  }
 },
 "nbformat": 4,
 "nbformat_minor": 2
}
