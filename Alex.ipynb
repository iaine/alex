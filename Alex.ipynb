{
 "cells": [
  {
   "cell_type": "code",
   "execution_count": 1,
   "metadata": {},
   "outputs": [],
   "source": [
    "import sys\n",
    "import json\n",
    "\n",
    "from collections import Counter\n",
    "\n",
    "counter = Counter()"
   ]
  },
  {
   "cell_type": "code",
   "execution_count": 2,
   "metadata": {},
   "outputs": [],
   "source": [
    "fname = \"DMIWinter19AlexAmplify\"\n",
    "\n",
    "f = open(fname.strip() + \".json\", 'r')\n",
    "posts = json.loads(f.read())\n",
    "f.close()\n",
    "\n",
    "fh = open(fname.strip() + 'links.csv', 'w+')\n",
    "fh.write(\"Publisher \\; Capture\\; Links\")\n",
    "for post in posts[\"results\"]:\n",
    "    links = []\n",
    "    imp_tme = \"\"\n",
    "    link = \"\"\n",
    "\n",
    "    if \"impressionTime\" in post:\n",
    "        imp_time = post[\"impressionTime\"]\n",
    "\n",
    "    if \"externalLinks\" in post:\n",
    "        links = [external['link'] for external in post[\"externalLinks\"]]\n",
    "\n",
    "    if len(links) > 0:\n",
    "        link = ','.join(links)\n",
    "        for l in links:\n",
    "            counter[l] += 1\n",
    "\n",
    "    write_data = ';'.join([post[\"attributions\"][0][\"content\"], imp_time, link])\n",
    "    fh.write(write_data.encode('utf-8') + \"\\n\")\n",
    "\n",
    "fh.close()"
   ]
  },
  {
   "cell_type": "code",
   "execution_count": 3,
   "metadata": {},
   "outputs": [
    {
     "name": "stdout",
     "output_type": "stream",
     "text": [
      "[(u'https://bzfd.it/2CUoJk6', 90), (u'http://ow.ly/v1E430neENU', 22), (u'https://tasty.co/compilation/6-warming-soups-and-stews', 19), (u'https://www.instagram.com/amoretasteofchicagolv/', 17), (u'https://tasty.co/recipe/cookies-cream-cheesecake-bundt-cake?utm_source=dynamic', 17)]\n"
     ]
    }
   ],
   "source": [
    "print counter.most_common(5)"
   ]
  },
  {
   "cell_type": "markdown",
   "metadata": {},
   "source": [
    "Code to identify the person, publisher and time of a link being posted. The aim is to see if the same link appears from different publishers and times suggesting a push of content.\n",
    "\n",
    "A todo would be to query the url shorteners to get the full name from the redirect to see if URLs are being masked behind aliases. \n",
    "\n",
    "The results, captured in DMIWinter19AlexAmplifyperson.csv are fairly innocuous here. "
   ]
  },
  {
   "cell_type": "code",
   "execution_count": 6,
   "metadata": {},
   "outputs": [],
   "source": [
    "link_name = \"https://bzfd.it/2CUoJk6\"\n",
    "\n",
    "f = open(fname.strip() + \".json\", 'r')\n",
    "posts = json.loads(f.read())\n",
    "f.close()\n",
    "\n",
    "fh = open(fname.strip() + 'person.csv', 'w+')\n",
    "fh.write(\"Publisher, Capture, UserId\\n\")\n",
    "for post in posts[\"results\"]:\n",
    "    imp_time = \"No Date\"\n",
    "\n",
    "    if \"externalLinks\" in post:\n",
    "        for l in post[\"externalLinks\"]:\n",
    "            if link_name == l['link']:\n",
    "                if \"impressionTime\" in post:\n",
    "                    imp_time = post[\"impressionTime\"]\n",
    "                userid = str(post[\"userId\"])\n",
    "                write_data = ','.join([post[\"attributions\"][0][\"content\"], imp_time, userid])\n",
    "                fh.write(write_data.encode('utf-8') + \"\\n\")\n",
    "\n",
    "fh.close()"
   ]
  },
  {
   "cell_type": "code",
   "execution_count": null,
   "metadata": {},
   "outputs": [],
   "source": []
  }
 ],
 "metadata": {
  "kernelspec": {
   "display_name": "Python 2",
   "language": "python",
   "name": "python2"
  },
  "language_info": {
   "codemirror_mode": {
    "name": "ipython",
    "version": 2
   },
   "file_extension": ".py",
   "mimetype": "text/x-python",
   "name": "python",
   "nbconvert_exporter": "python",
   "pygments_lexer": "ipython2",
   "version": "2.7.10"
  }
 },
 "nbformat": 4,
 "nbformat_minor": 2
}
